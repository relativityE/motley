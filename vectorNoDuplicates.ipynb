{
  "nbformat": 4,
  "nbformat_minor": 0,
  "metadata": {
    "colab": {
      "name": "vectorNoDuplicates.ipynb",
      "provenance": [],
      "authorship_tag": "ABX9TyPaFTaOoMKxQ1m52Gzc57VG",
      "include_colab_link": true
    },
    "kernelspec": {
      "name": "python3",
      "display_name": "Python 3"
    },
    "language_info": {
      "name": "python"
    }
  },
  "cells": [
    {
      "cell_type": "markdown",
      "metadata": {
        "id": "view-in-github",
        "colab_type": "text"
      },
      "source": [
        "<a href=\"https://colab.research.google.com/github/relativityE/motley/blob/main/vectorNoDuplicates.ipynb\" target=\"_parent\"><img src=\"https://colab.research.google.com/assets/colab-badge.svg\" alt=\"Open In Colab\"/></a>"
      ]
    },
    {
      "cell_type": "code",
      "metadata": {
        "id": "KwfCA-B0cL3m"
      },
      "source": [
        "#merge 2 vectors, no duplicate, return in new vector\n",
        "#include <iostream>\n",
        "#include <vector>\n",
        "#include <unordered_set>\n",
        "\n",
        "using namespace std;\n",
        "    \n",
        "std::vector<std::string> unique_names(const std::vector<std::string>& names1, const std::vector<std::string>& names2)\n",
        "{\n",
        "    std::vector<std::string> res(names1);\n",
        "    std::unordered_set<std::string>setNames(names1.begin(), names1.end());\n",
        "    \n",
        "    for(auto &inName : names1)\n",
        "        cout << \"names1: \" << inName << endl;\n",
        "        \n",
        "    for (auto &name : names2) {\n",
        "    \n",
        "       cout << \"set iteration name: \" << name << endl;\n",
        "       if(setNames.find(name) == setNames.end()) {\n",
        "            cout << \"adding name: \" << name \n",
        "            << \" to new vector\" << endl;\n",
        "            res.push_back(name);\n",
        "       }\n",
        "       else{\n",
        "        cout << \"skipping: \" << name << \" for new vector\" << endl;\n",
        "       }\n",
        "    }\n",
        "    \n",
        "  return res;\n",
        "}\n",
        "\n",
        "\n",
        "int main()\n",
        "{\n",
        "    std::vector<std::string> names1 = {\"Ava\", \"Emma\", \"Olivia\"};\n",
        "    std::vector<std::string> names2 = {\"Olivia\", \"Sophia\", \"Emma\"};\n",
        "    \n",
        "    std::vector<std::string> result = unique_names(names1, names2);\n",
        "    for(auto element : result)\n",
        "    {\n",
        "        std::cout << element << ' '; // should print Ava Emma Olivia Sophia\n",
        "    }\n",
        "}\n"
      ],
      "execution_count": null,
      "outputs": []
    }
  ]
}