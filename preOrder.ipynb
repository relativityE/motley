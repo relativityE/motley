{
  "nbformat": 4,
  "nbformat_minor": 0,
  "metadata": {
    "colab": {
      "name": "preOrder.ipynb",
      "provenance": [],
      "authorship_tag": "ABX9TyNUZoz9WN1G2v2Pdnh5nUaB",
      "include_colab_link": true
    },
    "kernelspec": {
      "name": "python3",
      "display_name": "Python 3"
    },
    "language_info": {
      "name": "python"
    }
  },
  "cells": [
    {
      "cell_type": "markdown",
      "metadata": {
        "id": "view-in-github",
        "colab_type": "text"
      },
      "source": [
        "<a href=\"https://colab.research.google.com/github/relativityE/motley/blob/main/preOrder.ipynb\" target=\"_parent\"><img src=\"https://colab.research.google.com/assets/colab-badge.svg\" alt=\"Open In Colab\"/></a>"
      ]
    },
    {
      "cell_type": "code",
      "metadata": {
        "id": "gKB0NZkqLmX4"
      },
      "source": [
        "#c++ preOrder Tree Traversal\n",
        "\n",
        "#include <iostream>\n",
        "#include <string>\n",
        "\n",
        "using namespace std;\n",
        "\n",
        "class Node {\n",
        "public:  \n",
        "    int data = -1;\n",
        "    Node *left = nullptr;\n",
        "    Node *right = nullptr;\n",
        "\n",
        "    Node(int data) : data(data),left(nullptr),right(nullptr) {}\n",
        "    friend ostream& operator<<(ostream& s, const Node* n);\n",
        "\n",
        "};\n",
        "\n",
        "ostream& operator<<(ostream& os, const Node* obj) {\n",
        "    return os << \"Node[\" << to_string(obj->data) << \"]\";\n",
        "}\n",
        "void preOrder( const Node* root) {\n",
        "    if(root != nullptr) {\n",
        "        //preOrder is data,left,right\n",
        "        cout << root << endl;\n",
        "        preOrder(root->left);\n",
        "        preOrder(root->right);\n",
        "    }\n",
        "}\n",
        "\n",
        "\n",
        "int main() {\n",
        "    Node *a = new Node(12);\n",
        "    a->left = new Node(10);\n",
        "    a->right = new Node(14);\n",
        "    a->left->left = new Node(5);\n",
        "    \n",
        "    /*\n",
        "         12\n",
        "        /  \\\n",
        "       10  14\n",
        "      /\n",
        "     5 \n",
        "    */\n",
        "    \n",
        "\tpreOrder(a);\n",
        "\n",
        "\treturn 0;\n",
        "}"
      ],
      "execution_count": null,
      "outputs": []
    }
  ]
}